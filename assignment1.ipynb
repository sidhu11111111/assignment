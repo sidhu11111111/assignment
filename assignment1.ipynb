{
 "cells": [
  {
   "cell_type": "markdown",
   "id": "5572470f-cd85-43e1-8b05-c6e92776fd10",
   "metadata": {},
   "source": [
    "Q1.Ans = FOR LOOP :\n",
    "In for loop statement is excuted then after increment or decrement in the value.\n",
    "\n"
   ]
  },
  {
   "cell_type": "code",
   "execution_count": 30,
   "id": "3bb9ae5f-daf9-4cb2-81a5-6c061f6f4ff5",
   "metadata": {},
   "outputs": [],
   "source": [
    "l = [ \"rishu\",\"chandan\",\"data science\",\"python\"]"
   ]
  },
  {
   "cell_type": "code",
   "execution_count": 31,
   "id": "92918f68-f4b1-456e-aeaf-5c0467dbfdbb",
   "metadata": {},
   "outputs": [
    {
     "data": {
      "text/plain": [
       "['rishu', 'chandan', 'data science', 'python']"
      ]
     },
     "execution_count": 31,
     "metadata": {},
     "output_type": "execute_result"
    }
   ],
   "source": [
    "l"
   ]
  },
  {
   "cell_type": "code",
   "execution_count": 32,
   "id": "616e8f19-0b88-4434-8b9e-11fb35c94783",
   "metadata": {},
   "outputs": [
    {
     "name": "stdout",
     "output_type": "stream",
     "text": [
      "rishu\n",
      "chandan\n",
      "data science\n",
      "python\n"
     ]
    }
   ],
   "source": [
    "for i in l :\n",
    "    print(i)"
   ]
  },
  {
   "cell_type": "markdown",
   "id": "0cc353b2-7fed-4794-8c77-2a707cc9bedc",
   "metadata": {},
   "source": [
    "In for loop first able to complete itself then\n",
    "only else will excute"
   ]
  },
  {
   "cell_type": "code",
   "execution_count": 33,
   "id": "3c7c175b-d6a4-4b47-89d4-ad39ec93a43d",
   "metadata": {},
   "outputs": [],
   "source": [
    "l1 = [\"grass\", \"tree\" ,\"google\",\"microsoft\"]"
   ]
  },
  {
   "cell_type": "code",
   "execution_count": 34,
   "id": "b86fdec7-1f30-4f32-bb75-0ec2670a9482",
   "metadata": {},
   "outputs": [
    {
     "data": {
      "text/plain": [
       "['grass', 'tree', 'google', 'microsoft']"
      ]
     },
     "execution_count": 34,
     "metadata": {},
     "output_type": "execute_result"
    }
   ],
   "source": [
    "l1"
   ]
  },
  {
   "cell_type": "code",
   "execution_count": 35,
   "id": "ed99aabf-a983-44fa-b526-1a84bf1b0f34",
   "metadata": {},
   "outputs": [
    {
     "name": "stdout",
     "output_type": "stream",
     "text": [
      "grass\n",
      "tree\n",
      "google\n",
      "microsoft\n",
      "amazon flipcart\n"
     ]
    }
   ],
   "source": [
    "for i in l1 :\n",
    "    print(i)\n",
    "else :\n",
    "    print(\"amazon\",\"flipcart\")"
   ]
  },
  {
   "cell_type": "code",
   "execution_count": 36,
   "id": "ebae9e29-d435-4926-9846-0e767a2f63f9",
   "metadata": {},
   "outputs": [
    {
     "data": {
      "text/plain": [
       "['grass', 'tree', 'google', 'microsoft']"
      ]
     },
     "execution_count": 36,
     "metadata": {},
     "output_type": "execute_result"
    }
   ],
   "source": [
    "l1"
   ]
  },
  {
   "cell_type": "code",
   "execution_count": 37,
   "id": "2e9fd7c7-3f16-4442-8884-91047a4040a2",
   "metadata": {},
   "outputs": [
    {
     "name": "stdout",
     "output_type": "stream",
     "text": [
      "grass\n"
     ]
    }
   ],
   "source": [
    "for i in l1:\n",
    "    if i == \"tree\":\n",
    "        break\n",
    "    print(i)\n",
    "else:\n",
    "    print(\"python is very basic language\")"
   ]
  },
  {
   "cell_type": "markdown",
   "id": "80f1955f-b95b-467d-a0c8-4db4a90159b2",
   "metadata": {},
   "source": [
    "#In above example you can see that first statement is not \n",
    "completed or excuted so else condition can't be executed."
   ]
  },
  {
   "cell_type": "markdown",
   "id": "d0dc364e-9ba8-4005-a0d0-fb0ce04f99da",
   "metadata": {},
   "source": [
    "#WHILE LOOP : while loop work on the condition if the given condition\n",
    "is True then body is execute till then if condition is False then body is \n",
    "not execute."
   ]
  },
  {
   "cell_type": "code",
   "execution_count": 40,
   "id": "4bc1dbb6-14af-4345-95ad-100bd26037e4",
   "metadata": {},
   "outputs": [
    {
     "name": "stdout",
     "output_type": "stream",
     "text": [
      "1\n",
      "2\n",
      "3\n",
      "4\n",
      "5\n",
      "6\n",
      "7\n",
      "8\n",
      "9\n",
      "10\n"
     ]
    }
   ],
   "source": [
    "a = 1 \n",
    "\n",
    "while a <= 10:\n",
    "    print(a)\n",
    "    a = a + 1"
   ]
  },
  {
   "cell_type": "markdown",
   "id": "fe15619f-4582-4f51-b7a7-06916166605a",
   "metadata": {},
   "source": [
    "#Q2.Ans: SUM BY FOR LOOP"
   ]
  },
  {
   "cell_type": "code",
   "execution_count": 41,
   "id": "fb91cd51-7e1d-462b-95bd-eb37872597ba",
   "metadata": {},
   "outputs": [
    {
     "data": {
      "text/plain": [
       "55"
      ]
     },
     "execution_count": 41,
     "metadata": {},
     "output_type": "execute_result"
    }
   ],
   "source": [
    "l = [1,2,3,4,5,6,7,8,9,10]\n",
    "sum = 0\n",
    "for i in l :\n",
    "    sum = sum +i\n",
    "sum    "
   ]
  },
  {
   "cell_type": "markdown",
   "id": "6ae5cedc-c045-4f6a-b1ad-459f1e37891c",
   "metadata": {},
   "source": [
    "#PRODUCT BY FOR LOOP"
   ]
  },
  {
   "cell_type": "code",
   "execution_count": 42,
   "id": "fbff9f02-e75c-4a69-88f1-0b75e30bbcab",
   "metadata": {},
   "outputs": [
    {
     "data": {
      "text/plain": [
       "3628800"
      ]
     },
     "execution_count": 42,
     "metadata": {},
     "output_type": "execute_result"
    }
   ],
   "source": [
    "l = [1,2,3,4,5,6,7,8,9,10]\n",
    "factorial = 1\n",
    "for i in l :\n",
    "    factorial = factorial*i\n",
    "factorial    \n",
    "    "
   ]
  },
  {
   "cell_type": "markdown",
   "id": "096ab118-8056-43d2-9ee1-f4847fc7b815",
   "metadata": {},
   "source": [
    "#SUM BY WHILE LOOP"
   ]
  },
  {
   "cell_type": "code",
   "execution_count": 44,
   "id": "67e30667-6eb7-4391-8047-0648302791e0",
   "metadata": {},
   "outputs": [
    {
     "name": "stdin",
     "output_type": "stream",
     "text": [
      "enter your number:  10\n"
     ]
    },
    {
     "data": {
      "text/plain": [
       "55"
      ]
     },
     "execution_count": 44,
     "metadata": {},
     "output_type": "execute_result"
    }
   ],
   "source": [
    "n = int(input(\"enter your number: \"))\n",
    "x = 0\n",
    "y = 1\n",
    "\n",
    "while y <= n:\n",
    "    x = x + y\n",
    "    y = y + 1\n",
    "x    \n",
    "#x=sum        \n",
    "        "
   ]
  },
  {
   "cell_type": "markdown",
   "id": "07f54ecb-ff59-47e9-8bb2-9ffa1047d78a",
   "metadata": {},
   "source": [
    "#PRODUCT BY WHILE LOOP"
   ]
  },
  {
   "cell_type": "code",
   "execution_count": 45,
   "id": "a1244f9e-f442-472c-ae6b-daac7901e388",
   "metadata": {},
   "outputs": [
    {
     "name": "stdin",
     "output_type": "stream",
     "text": [
      "enter your number 10\n"
     ]
    },
    {
     "data": {
      "text/plain": [
       "3628800"
      ]
     },
     "execution_count": 45,
     "metadata": {},
     "output_type": "execute_result"
    }
   ],
   "source": [
    "num = int(input(\"enter your number\"))\n",
    "factorial = 1\n",
    "while num > 0:\n",
    "    factorial = factorial*num\n",
    "    num = num -1\n",
    "factorial    \n",
    "          "
   ]
  },
  {
   "cell_type": "markdown",
   "id": "3a25e819-0da4-4230-bac0-58d12d0a444d",
   "metadata": {},
   "source": [
    "#Q3.ANS:"
   ]
  },
  {
   "cell_type": "code",
   "execution_count": 46,
   "id": "2dcf8884-b170-49c4-96de-c382f7012491",
   "metadata": {},
   "outputs": [
    {
     "name": "stdin",
     "output_type": "stream",
     "text": [
      "enter the total unit 310\n"
     ]
    },
    {
     "name": "stdout",
     "output_type": "stream",
     "text": [
      "bill is 2250.0\n"
     ]
    }
   ],
   "source": [
    "unit = int(input(\"enter the total unit\"))\n",
    "if unit <= 100:\n",
    "    print(\"bill is\", (unit * 4.5))\n",
    "elif unit > 100 and unit <=200:\n",
    "    print(\"bill is\",((unit-100)*6)+ (100* 4.5))\n",
    "elif unit > 200 and unit <=300:\n",
    "    print(\"bill is\",((unit-200)*10)+(100*6)+(100*4.5))\n",
    "else :\n",
    "    print(\"bill is\",((unit-300)*20)+(100*10)+(100*6)+(100*4.5))"
   ]
  },
  {
   "cell_type": "markdown",
   "id": "3f1c5b89-6cf3-4d49-8645-17f8c0b78266",
   "metadata": {},
   "source": [
    "#Q4.ANS"
   ]
  },
  {
   "cell_type": "code",
   "execution_count": 47,
   "id": "55bcb33d-86d0-41de-80ea-3902c2d0db3f",
   "metadata": {},
   "outputs": [
    {
     "name": "stdout",
     "output_type": "stream",
     "text": [
      "[1, 8, 27, 64, 125, 216, 343, 512, 729, 1000, 1331, 1728, 2197, 2744, 3375, 4096, 4913, 5832, 6859, 8000, 9261, 10648, 12167, 13824, 15625, 17576, 19683, 21952, 24389, 27000, 29791, 32768, 35937, 39304, 42875, 46656, 50653, 54872, 59319, 64000, 68921, 74088, 79507, 85184, 91125, 97336, 103823, 110592, 117649, 125000, 132651, 140608, 148877, 157464, 166375, 175616, 185193, 195112, 205379, 216000, 226981, 238328, 250047, 262144, 274625, 287496, 300763, 314432, 328509, 343000, 357911, 373248, 389017, 405224, 421875, 438976, 456533, 474552, 493039, 512000, 531441, 551368, 571787, 592704, 614125, 636056, 658503, 681472, 704969, 729000, 753571, 778688, 804357, 830584, 857375, 884736, 912673, 941192, 970299, 1000000]\n"
     ]
    }
   ],
   "source": [
    "x = []\n",
    "for i in range(1,101):\n",
    "    x.append(i**3) \n",
    "print(x)\n"
   ]
  },
  {
   "cell_type": "code",
   "execution_count": 48,
   "id": "32df244e-3638-4bb7-a682-0a0a8513896b",
   "metadata": {},
   "outputs": [
    {
     "name": "stdout",
     "output_type": "stream",
     "text": [
      "[2, 4, 5, 6, 8, 10, 12, 14, 15, 16, 18, 20, 22, 24, 25, 26, 28, 30, 32, 34, 35, 36, 38, 40, 42, 44, 45, 46, 48, 50, 52, 54, 55, 56, 58, 60, 62, 64, 65, 66, 68, 70, 72, 74, 75, 76, 78, 80, 82, 84, 85, 86, 88, 90, 92, 94, 95, 96, 98, 100]\n"
     ]
    }
   ],
   "source": [
    "l = list(range(1,101))\n",
    "l1 = []\n",
    "for i in l:\n",
    "    cube = i**3\n",
    "    if cube%4==0 or cube%5 ==0:\n",
    "        l1.append(i)\n",
    "print(l1)       \n",
    "    "
   ]
  },
  {
   "cell_type": "code",
   "execution_count": 1,
   "id": "7b373f6b-6218-4d12-82b9-7a87130a5da1",
   "metadata": {},
   "outputs": [
    {
     "name": "stdout",
     "output_type": "stream",
     "text": [
      "[2, 4, 5, 6, 8, 10, 12, 14, 15, 16, 18, 20, 22, 24, 25, 26, 28, 30, 32, 34, 35, 36, 38, 40, 42, 44, 45, 46, 48, 50, 52, 54, 55, 56, 58, 60, 62, 64, 65, 66, 68, 70, 72, 74, 75, 76, 78, 80, 82, 84, 85, 86, 88, 90, 92, 94, 95, 96, 98, 100]\n"
     ]
    }
   ],
   "source": [
    "num = []\n",
    "i = 1\n",
    "while i <= 100:\n",
    "    cube = i**3\n",
    "    if cube % 4 == 0 or cube % 5 == 0:\n",
    "        num.append(i)\n",
    "    i += 1\n",
    "print(num)        "
   ]
  },
  {
   "cell_type": "markdown",
   "id": "0bdb7f75-25a1-4756-be37-05f8d89fe7ba",
   "metadata": {},
   "source": [
    "Qno. 5"
   ]
  },
  {
   "cell_type": "code",
   "execution_count": 1,
   "id": "8ade3b09-b630-4a6c-aa52-fa41b6d731c9",
   "metadata": {},
   "outputs": [
    {
     "name": "stdout",
     "output_type": "stream",
     "text": [
      "12\n"
     ]
    }
   ],
   "source": [
    "s = \"i want to become a data scientist\"\n",
    "s1 = []\n",
    "for j in s:\n",
    "    if j =='a' or j =='e' or j == 'i' or j =='o' or j=='u':\n",
    "        s1.append(j)\n",
    "print(len(s1))        "
   ]
  },
  {
   "cell_type": "code",
   "execution_count": null,
   "id": "cf2986d0-4971-427b-af01-940ae999f868",
   "metadata": {},
   "outputs": [],
   "source": []
  }
 ],
 "metadata": {
  "kernelspec": {
   "display_name": "Python 3 (ipykernel)",
   "language": "python",
   "name": "python3"
  },
  "language_info": {
   "codemirror_mode": {
    "name": "ipython",
    "version": 3
   },
   "file_extension": ".py",
   "mimetype": "text/x-python",
   "name": "python",
   "nbconvert_exporter": "python",
   "pygments_lexer": "ipython3",
   "version": "3.10.6"
  }
 },
 "nbformat": 4,
 "nbformat_minor": 5
}
